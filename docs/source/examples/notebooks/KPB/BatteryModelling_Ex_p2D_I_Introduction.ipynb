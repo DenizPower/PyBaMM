{
 "cells": [
  {
   "cell_type": "markdown",
   "metadata": {
    "id": "ISSzp0tjOfC9"
   },
   "source": [
    "# Battery Modelling Exercise p2D - Introduction\n",
    "Welcome to the exercise regarding p2D. In this exercise you get an overview of a physical-chemical battery model and a short introduction in modelling and simulating with \"PyBaMM\" (Python Battery Mathematical Modelling), which is an open-source tool for modelling differential equations with a focus on battery modelling (Sulzer et al., Journal of Open Research, DOI: 10.5334/jors.309).\n",
    "\n",
    "If you want to have a deeper insight in PyBaMM you can have a look at the official page of PyBaMM which includes many examples for battery modelling for different purposes, a documentary and a discussion page on GitHub https://pybamm.org/.\n",
    "\n",
    "\n",
    "The exercise is divided in two parts:\n",
    "\n",
    "(a)   Introduction in PyBaMM and creating a first battery model.\n",
    "\n",
    "(b)   Comparison of different physical-chemical models: SPM (Single Particle Model), SPMe (Single Particle Model with Electrolyte), and DFN (Doyle-Fuller-Newmann model).\n",
    "\n",
    "\n",
    "\n",
    "\n",
    " \n"
   ]
  },
  {
   "cell_type": "markdown",
   "metadata": {
    "id": "bF68_0HnY4Et"
   },
   "source": [
    "________________________________________________________________________________________________________________________________\n",
    "The process of battery model simulation with PyBaMM can be separated into the following steps:\n",
    "1.  Define the model and the geometry using PyBaMM's syntax\n",
    "2.  Parametrize the model expressions with numerical values\n",
    "3.  Mesh and discretize the model\n",
    "4.  Solve the model with solving algorithms\n",
    "5.  Post-processing the results\n",
    "\n",
    "PyBaMM uses symbolic expressions for encoding the mathematical equations into a symbolic expression tree. Therefore, dictionaries represent the equations, boundary equations and initial conditions."
   ]
  },
  {
   "cell_type": "markdown",
   "metadata": {
    "id": "cB6yuvxbYVAN"
   },
   "source": [
    "![Screenshot 2023-10-24 131151.png](data:image/png;base64,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)\n",
    "\n",
    "Sulzer et al., Journal of Open Research, DOI: 10.5334/jors.309"
   ]
  },
  {
   "cell_type": "markdown",
   "metadata": {
    "id": "5DtVApGkOfyD"
   },
   "source": [
    "# (a) Intruduction in PyBaMM and creating a first battery model\n",
    "In this part of the exercise we will create a first simple battery model to give a short introduction in modelling and simulating within PyBaMM's environment.\n",
    "\n",
    "PyBaMM is an open-source toolbox, so it is free of charge and the source code is open to edit for user defined extensions or changes. The source code of PyBaMM is published via GitHub under https://github.com/pybamm-team/PyBaMM."
   ]
  },
  {
   "cell_type": "markdown",
   "metadata": {
    "id": "M8_8ppekWdnZ"
   },
   "source": [
    "First, we need to download and install PyBaMM's packages. If you run PyBaMM on a local machine (e.g. on your laptop or personal computer) you need to do this only once. If you work in a virtual machine like in Google Colab you have to do this every time you start a new session."
   ]
  },
  {
   "cell_type": "code",
   "execution_count": 10,
   "metadata": {
    "colab": {
     "base_uri": "https://localhost:8080/"
    },
    "executionInfo": {
     "elapsed": 5147,
     "status": "ok",
     "timestamp": 1698187077391,
     "user": {
      "displayName": "Nicolas Schneider",
      "userId": "17455203877234074404"
     },
     "user_tz": -120
    },
    "id": "4wa5YvjbOeG2",
    "outputId": "d22986ba-de34-4be9-c29e-adec07b427bd"
   },
   "outputs": [
    {
     "name": "stdout",
     "output_type": "stream",
     "text": [
      "Note: you may need to restart the kernel to use updated packages.\n"
     ]
    },
    {
     "name": "stderr",
     "output_type": "stream",
     "text": [
      "ERROR: Invalid requirement: '#'\n",
      "\n",
      "[notice] A new release of pip is available: 24.0 -> 24.2\n",
      "[notice] To update, run: python.exe -m pip install --upgrade pip\n"
     ]
    }
   ],
   "source": [
    "%pip install pybamm[plot,cite] -q    # install PyBaMM if it is not installed"
   ]
  },
  {
   "cell_type": "markdown",
   "metadata": {
    "id": "56FzG83zXeHU"
   },
   "source": [
    "Then, we need to import the libraries in our actual Python session. We also import the Numpy package (https://numpy.org/) for defining Matlab-like numerical arrays and the Matplotlib (https://matplotlib.org/) for creating plots of the results."
   ]
  },
  {
   "cell_type": "code",
   "execution_count": 11,
   "metadata": {
    "id": "G3wdUgCmYKJr"
   },
   "outputs": [],
   "source": [
    "import pybamm\n",
    "import numpy as np\n",
    "import matplotlib.pyplot as plt"
   ]
  },
  {
   "cell_type": "markdown",
   "metadata": {
    "id": "CJFj4TjVOdUt"
   },
   "source": [
    "First, we define our model. PyBaMM provides some predefined models (https://docs.pybamm.org/en/latest/source/api/models/index.html). In this exercise we start with the standard Doyle-Fuller-Newman model [Newman et al. 1978]. At this point we could also use other models like SPM.\n",
    "\n",
    "For the DFN model we have further options to include submodels like modelling the thermal behaviour, particle swelling or SEI growth which are implemented as dictionary entries. The dictionary entries should be listed in the variable \"model_options\" (in this example) which refers to the battery model class. A list and a short explanation of the submodels can be found here https://docs.pybamm.org/en/latest/source/api/models/index.html."
   ]
  },
  {
   "cell_type": "code",
   "execution_count": 3,
   "metadata": {
    "id": "qYklVcysOPzC"
   },
   "outputs": [],
   "source": [
    "#Define our DFN model\n",
    "model_options={}    #syntax should be like  model_options={\"calculate discharge energy\":\"true\"}\n",
    "model=pybamm.lithium_ion.DFN(model_options) #Define our DFN model"
   ]
  },
  {
   "cell_type": "markdown",
   "metadata": {
    "id": "NG8MOpPigFSe"
   },
   "source": [
    "Next, we parametrize our model. In this example we use the parameter set from Chen et al. 2020 (J. Electrochem. Soc. 167 080534) which is based on a LG M50 Li-Ion cell (cathode material: NMC811, anode material: graphite-silicon composite). The parameter set is included in PyBaMM's library and can be found on the GitHub page or in the local installation files (https://github.com/pybamm-team/PyBaMM/blob/develop/pybamm/input/parameters/lithium_ion/Chen2020.py).\n",
    "\n",
    "In the parameter repository on GitHub you can find other parameter sets: https://github.com/pybamm-team/PyBaMM/tree/develop/pybamm/input/parameters/lithium_ion.\n",
    "\n",
    "We want to apply a current of 5A which is equivalent to a C-Rate of 1C (nominal cell capacity of the LG M50 cell is 5 Ah). Therefore, we update (pybamm.Parameter.update is a PyBaMM specific funtion) the parameter \"Current function [A]\" which is defined as a dictionary entry (for more information about this datatype see https://docs.python.org/3/tutorial/datastructures.html#dictionaries)."
   ]
  },
  {
   "cell_type": "code",
   "execution_count": 4,
   "metadata": {
    "id": "icMdnZmzgEd0"
   },
   "outputs": [],
   "source": [
    "param=pybamm.ParameterValues(\"Chen2020\") #choose the parameter set Chen 2020\n",
    "param.update({\"Current function [A]\":5}) #update applied current"
   ]
  },
  {
   "cell_type": "markdown",
   "metadata": {
    "id": "ZeuvMT-uijKa"
   },
   "source": [
    "In the following, we discretize the model. That is, we define the meshing approach for the finite volumina method and the number of finite volumina elements.\n",
    "Then, we create a PyBaMM simulation case which is used for solving and processing the variables."
   ]
  },
  {
   "cell_type": "code",
   "execution_count": 5,
   "metadata": {
    "id": "t_qa-6gHiOtd"
   },
   "outputs": [],
   "source": [
    "submesh_types=model.default_submesh_types # Definition of the meshing method for the whole as default\n",
    "submesh_types[\"negative particle\"]=pybamm.MeshGenerator(pybamm.Uniform1DSubMesh) # Definition of the meshing method for the negative particle\n",
    "submesh_types[\"positive particle\"]=pybamm.MeshGenerator(pybamm.Uniform1DSubMesh) # Definition of the meshing method for the positive particle\n",
    "var_pts={\"x_n\":20,\"x_s\":15,\"x_p\":20,\"r_n\":20,\"r_p\":20,} # Definition of the volumina elements for the different domains, \n",
    "#\"x_n\" = negative electrode, #\"x_s\"= separator,\"x_p\"= positive electrode,\"r_n\"= negative particle,\"r_p\"= positive electrode\n",
    "\n",
    "\n",
    "sim = pybamm.Simulation(model, parameter_values=param, var_pts=var_pts, submesh_types=submesh_types) #setup the simulation case\n"
   ]
  },
  {
   "cell_type": "markdown",
   "metadata": {
    "id": "XY07Vq8XcfUW"
   },
   "source": [
    "Now we did all the necessary steps to setup our simulation case. In the following step we will solve the simulation case and get our first results."
   ]
  },
  {
   "cell_type": "code",
   "execution_count": 6,
   "metadata": {
    "colab": {
     "base_uri": "https://localhost:8080/"
    },
    "executionInfo": {
     "elapsed": 942,
     "status": "ok",
     "timestamp": 1698182951518,
     "user": {
      "displayName": "Nicolas Schneider",
      "userId": "17455203877234074404"
     },
     "user_tz": -120
    },
    "id": "b1Psm69pjGI5",
    "outputId": "e9bb1342-5ac5-4c32-95a3-2f475a56ad69"
   },
   "outputs": [
    {
     "data": {
      "text/plain": [
       "<pybamm.solvers.solution.Solution at 0x2765293bc10>"
      ]
     },
     "execution_count": 6,
     "metadata": {},
     "output_type": "execute_result"
    }
   ],
   "source": [
    "sim.solve([0,3600])  #solving for 1h=3600s"
   ]
  },
  {
   "cell_type": "markdown",
   "metadata": {
    "id": "SxDHUnWEdGM9"
   },
   "source": [
    "The solving process has been finished. Now we can conduct the post-processing step and plot the results."
   ]
  },
  {
   "cell_type": "code",
   "execution_count": 7,
   "metadata": {
    "colab": {
     "base_uri": "https://localhost:8080/",
     "height": 633,
     "referenced_widgets": [
      "36fd9ff312c0427c9c859aed2e638a45",
      "cacc0b64062f422f8113a9033fbc987b",
      "99e719e860554fdc8106fc52411ff48b",
      "697c155e6e1d4315be149a1e040a4dec",
      "191cc4279c704456b1bc145d6eb48d7a",
      "89832774a1b948519a1fc6c35551fb5a",
      "f895c1eb4aa84994b6eb8d8c168dedb5"
     ]
    },
    "executionInfo": {
     "elapsed": 5223,
     "status": "ok",
     "timestamp": 1698182958175,
     "user": {
      "displayName": "Nicolas Schneider",
      "userId": "17455203877234074404"
     },
     "user_tz": -120
    },
    "id": "PghSZ2PKlNC1",
    "outputId": "02133ba4-402e-418c-9212-76faa58520e5"
   },
   "outputs": [
    {
     "data": {
      "application/vnd.jupyter.widget-view+json": {
       "model_id": "f2d51560e30344adac2ebf47d09803dd",
       "version_major": 2,
       "version_minor": 0
      },
      "text/plain": [
       "interactive(children=(FloatSlider(value=0.0, description='t', max=3555.445377650817, step=35.55445377650817), …"
      ]
     },
     "metadata": {},
     "output_type": "display_data"
    },
    {
     "data": {
      "text/plain": [
       "<pybamm.plotting.quick_plot.QuickPlot at 0x2765290f5d0>"
      ]
     },
     "execution_count": 7,
     "metadata": {},
     "output_type": "execute_result"
    }
   ],
   "source": [
    "sim.plot()"
   ]
  },
  {
   "cell_type": "markdown",
   "metadata": {},
   "source": [
    "We can also use Matplotlib to create custom plots of our results. Therefore, we store the PyBaMM result variables (here time and voltage) which can be accessed via dictionary entries, and the subscript \".entries\" into a list variable and plot them."
   ]
  },
  {
   "cell_type": "code",
   "execution_count": 8,
   "metadata": {},
   "outputs": [
    {
     "data": {
      "image/png": "[encoded data removed]",
      "text/plain": [
       "<Figure size 640x480 with 1 Axes>"
      ]
     },
     "metadata": {},
     "output_type": "display_data"
    }
   ],
   "source": [
    "#we define a new figure with matplotlib\n",
    "fig, ax = plt.subplots()\n",
    "#we store the results \"Time [s]\" and \"Voltage [V]\" in a list variable\n",
    "time = sim.solution[\"Time [s]\"].entries\n",
    "voltage = sim.solution[\"Voltage [V]\"].entries\n",
    "#here we plot the voltage variable as a function of time and give a label name\n",
    "ax.plot(time, voltage,label=f\"Parameters Chen2020\")\n",
    "ax.set_title(\"Voltage vs. time\")\n",
    "ax.set_xlabel(\"Time [s]\")\n",
    "ax.set_ylabel(\"Voltage [V]\")\n",
    "ax.grid(True)\n",
    "ax.legend(loc='best')\n",
    "plt.show()"
   ]
  },
  {
   "cell_type": "markdown",
   "metadata": {
    "id": "WbTh9tgukWzh"
   },
   "source": [
    "# Task\n",
    "In the following code snippets, the previous model setup and simulation is condensed in one command.\n",
    "\n",
    "\n",
    "Create simulation cases for C-rates of 0.1, 0.5, 1, 2 and plot the voltage outputs in a single plot as a function of the discharge capacity. To get an idea of how to code this, see Tutorial 3 and Tutorial 9 from PyBaMM.\n",
    "  \n",
    "Tutorial 3: https://docs.pybamm.org/en/latest/source/examples/notebooks/getting_started/tutorial-3-basic-plotting.html\n",
    "\n",
    "Tutorial 9: https://docs.pybamm.org/en/latest/source/examples/notebooks/getting_started/tutorial-9-changing-the-mesh.html\n",
    "\n",
    "You can see how the solution could look like in the attending pdf for this workshop."
   ]
  },
  {
   "cell_type": "code",
   "execution_count": 9,
   "metadata": {
    "id": "5SvAFM-n3dwv"
   },
   "outputs": [
    {
     "ename": "SyntaxError",
     "evalue": "invalid syntax (3566536125.py, line 15)",
     "output_type": "error",
     "traceback": [
      "\u001b[1;36m  Cell \u001b[1;32mIn[9], line 15\u001b[1;36m\u001b[0m\n\u001b[1;33m    c_rate_val=[******]\u001b[0m\n\u001b[1;37m                ^\u001b[0m\n\u001b[1;31mSyntaxError\u001b[0m\u001b[1;31m:\u001b[0m invalid syntax\n"
     ]
    }
   ],
   "source": [
    "#Template\n",
    "import pybamm\n",
    "import numpy as np\n",
    "import matplotlib.pyplot as plt\n",
    "\n",
    "model_options={}\n",
    "model=pybamm.lithium_ion.DFN(model_options)\n",
    "param=pybamm.ParameterValues(\"Chen2020\")\n",
    "\n",
    "submesh_types=model.default_submesh_types\n",
    "submesh_types[\"negative particle\"]=pybamm.MeshGenerator(pybamm.Uniform1DSubMesh)\n",
    "submesh_types[\"positive particle\"]=pybamm.MeshGenerator(pybamm.Uniform1DSubMesh)\n",
    "var_pts={\"x_n\":20,\"x_s\":20,\"x_p\":20,\"r_n\":20,\"r_p\":20,}\n",
    "solutions=[]\n",
    "c_rate_val=[******]\n",
    "fig, ax = plt.subplots()\n",
    "for value in c_rate_val:\n",
    "  # here you should initialize and solve the model and store the variable into the \"capacity\" and \"voltage\" variable\n",
    "  *****\n",
    "  ax.plot(capacity, voltage,label=f\"{value} C / {value*5} A\")\n",
    "ax.set_title(\"Voltage vs. discharge capacity\")\n",
    "ax.set_xlabel(\"Discharge capacity [Ah]\")\n",
    "ax.set_ylabel(\"Voltage [V]\")\n",
    "ax.grid(True)\n",
    "ax.legend(loc='best')\n",
    "plt.show()\n",
    "######"
   ]
  }
 ],
 "metadata": {
  "colab": {
   "authorship_tag": "ABX9TyMDDHprZ0Rmdo4JAz4Ftstl",
   "provenance": []
  },
  "kernelspec": {
   "display_name": "Python 3",
   "name": "python3"
  },
  "language_info": {
   "codemirror_mode": {
    "name": "ipython",
    "version": 3
   },
   "file_extension": ".py",
   "mimetype": "text/x-python",
   "name": "python",
   "nbconvert_exporter": "python",
   "pygments_lexer": "ipython3",
   "version": "3.11.0"
  },
  "widgets": {
   "application/vnd.jupyter.widget-state+json": {
    "191cc4279c704456b1bc145d6eb48d7a": {
     "model_module": "@jupyter-widgets/base",
     "model_module_version": "1.2.0",
     "model_name": "LayoutModel",
     "state": {
      "_model_module": "@jupyter-widgets/base",
      "_model_module_version": "1.2.0",
      "_model_name": "LayoutModel",
      "_view_count": null,
      "_view_module": "@jupyter-widgets/base",
      "_view_module_version": "1.2.0",
      "_view_name": "LayoutView",
      "align_content": null,
      "align_items": null,
      "align_self": null,
      "border": null,
      "bottom": null,
      "display": null,
      "flex": null,
      "flex_flow": null,
      "grid_area": null,
      "grid_auto_columns": null,
      "grid_auto_flow": null,
      "grid_auto_rows": null,
      "grid_column": null,
      "grid_gap": null,
      "grid_row": null,
      "grid_template_areas": null,
      "grid_template_columns": null,
      "grid_template_rows": null,
      "height": null,
      "justify_content": null,
      "justify_items": null,
      "left": null,
      "margin": null,
      "max_height": null,
      "max_width": null,
      "min_height": null,
      "min_width": null,
      "object_fit": null,
      "object_position": null,
      "order": null,
      "overflow": null,
      "overflow_x": null,
      "overflow_y": null,
      "padding": null,
      "right": null,
      "top": null,
      "visibility": null,
      "width": null
     }
    },
    "36fd9ff312c0427c9c859aed2e638a45": {
     "model_module": "@jupyter-widgets/controls",
     "model_module_version": "1.5.0",
     "model_name": "VBoxModel",
     "state": {
      "_dom_classes": [
       "widget-interact"
      ],
      "_model_module": "@jupyter-widgets/controls",
      "_model_module_version": "1.5.0",
      "_model_name": "VBoxModel",
      "_view_count": null,
      "_view_module": "@jupyter-widgets/controls",
      "_view_module_version": "1.5.0",
      "_view_name": "VBoxView",
      "box_style": "",
      "children": [
       "IPY_MODEL_cacc0b64062f422f8113a9033fbc987b",
       "IPY_MODEL_99e719e860554fdc8106fc52411ff48b"
      ],
      "layout": "IPY_MODEL_697c155e6e1d4315be149a1e040a4dec"
     }
    },
    "697c155e6e1d4315be149a1e040a4dec": {
     "model_module": "@jupyter-widgets/base",
     "model_module_version": "1.2.0",
     "model_name": "LayoutModel",
     "state": {
      "_model_module": "@jupyter-widgets/base",
      "_model_module_version": "1.2.0",
      "_model_name": "LayoutModel",
      "_view_count": null,
      "_view_module": "@jupyter-widgets/base",
      "_view_module_version": "1.2.0",
      "_view_name": "LayoutView",
      "align_content": null,
      "align_items": null,
      "align_self": null,
      "border": null,
      "bottom": null,
      "display": null,
      "flex": null,
      "flex_flow": null,
      "grid_area": null,
      "grid_auto_columns": null,
      "grid_auto_flow": null,
      "grid_auto_rows": null,
      "grid_column": null,
      "grid_gap": null,
      "grid_row": null,
      "grid_template_areas": null,
      "grid_template_columns": null,
      "grid_template_rows": null,
      "height": null,
      "justify_content": null,
      "justify_items": null,
      "left": null,
      "margin": null,
      "max_height": null,
      "max_width": null,
      "min_height": null,
      "min_width": null,
      "object_fit": null,
      "object_position": null,
      "order": null,
      "overflow": null,
      "overflow_x": null,
      "overflow_y": null,
      "padding": null,
      "right": null,
      "top": null,
      "visibility": null,
      "width": null
     }
    },
    "89832774a1b948519a1fc6c35551fb5a": {
     "model_module": "@jupyter-widgets/controls",
     "model_module_version": "1.5.0",
     "model_name": "SliderStyleModel",
     "state": {
      "_model_module": "@jupyter-widgets/controls",
      "_model_module_version": "1.5.0",
      "_model_name": "SliderStyleModel",
      "_view_count": null,
      "_view_module": "@jupyter-widgets/base",
      "_view_module_version": "1.2.0",
      "_view_name": "StyleView",
      "description_width": "",
      "handle_color": null
     }
    },
    "99e719e860554fdc8106fc52411ff48b": {
     "model_module": "@jupyter-widgets/output",
     "model_module_version": "1.0.0",
     "model_name": "OutputModel",
     "state": {
      "_dom_classes": [],
      "_model_module": "@jupyter-widgets/output",
      "_model_module_version": "1.0.0",
      "_model_name": "OutputModel",
      "_view_count": null,
      "_view_module": "@jupyter-widgets/output",
      "_view_module_version": "1.0.0",
      "_view_name": "OutputView",
      "layout": "IPY_MODEL_f895c1eb4aa84994b6eb8d8c168dedb5",
      "msg_id": "",
      "outputs": []
     }
    },
    "cacc0b64062f422f8113a9033fbc987b": {
     "model_module": "@jupyter-widgets/controls",
     "model_module_version": "1.5.0",
     "model_name": "FloatSliderModel",
     "state": {
      "_dom_classes": [],
      "_model_module": "@jupyter-widgets/controls",
      "_model_module_version": "1.5.0",
      "_model_name": "FloatSliderModel",
      "_view_count": null,
      "_view_module": "@jupyter-widgets/controls",
      "_view_module_version": "1.5.0",
      "_view_name": "FloatSliderView",
      "continuous_update": true,
      "description": "t",
      "description_tooltip": null,
      "disabled": false,
      "layout": "IPY_MODEL_191cc4279c704456b1bc145d6eb48d7a",
      "max": 3555.445377650396,
      "min": 0,
      "orientation": "horizontal",
      "readout": true,
      "readout_format": ".2f",
      "step": 35.55445377650396,
      "style": "IPY_MODEL_89832774a1b948519a1fc6c35551fb5a",
      "value": 0
     }
    },
    "f895c1eb4aa84994b6eb8d8c168dedb5": {
     "model_module": "@jupyter-widgets/base",
     "model_module_version": "1.2.0",
     "model_name": "LayoutModel",
     "state": {
      "_model_module": "@jupyter-widgets/base",
      "_model_module_version": "1.2.0",
      "_model_name": "LayoutModel",
      "_view_count": null,
      "_view_module": "@jupyter-widgets/base",
      "_view_module_version": "1.2.0",
      "_view_name": "LayoutView",
      "align_content": null,
      "align_items": null,
      "align_self": null,
      "border": null,
      "bottom": null,
      "display": null,
      "flex": null,
      "flex_flow": null,
      "grid_area": null,
      "grid_auto_columns": null,
      "grid_auto_flow": null,
      "grid_auto_rows": null,
      "grid_column": null,
      "grid_gap": null,
      "grid_row": null,
      "grid_template_areas": null,
      "grid_template_columns": null,
      "grid_template_rows": null,
      "height": null,
      "justify_content": null,
      "justify_items": null,
      "left": null,
      "margin": null,
      "max_height": null,
      "max_width": null,
      "min_height": null,
      "min_width": null,
      "object_fit": null,
      "object_position": null,
      "order": null,
      "overflow": null,
      "overflow_x": null,
      "overflow_y": null,
      "padding": null,
      "right": null,
      "top": null,
      "visibility": null,
      "width": null
     }
    }
   }
  }
 },
 "nbformat": 4,
 "nbformat_minor": 0
}
